{
 "cells": [
  {
   "cell_type": "markdown",
   "metadata": {},
   "source": [
    "# Kostnadsoverslag closed source LLMs\n",
    "\n",
    "Data om kostnader og benchmarks er hentet fra: https://www.vellum.ai/llm-leaderboard"
   ]
  },
  {
   "cell_type": "code",
   "execution_count": null,
   "metadata": {},
   "outputs": [],
   "source": [
    "import pandas as pd\n",
    "import numpy as np\n",
    "\n",
    "from cost_model import make_df_cost, calculate_total_cost\n",
    "from plot_funcs import plot_multiple_lines\n",
    "\n",
    "# Import and merge together\n",
    "kost = pd.read_csv(\"kostnader.csv\")\n",
    "bench = pd.read_csv(\"llm_benchmarks.csv\")\n",
    "\n",
    "df = (\n",
    "    pd.merge(kost, bench, on=[\"Modell\"], how=\"left\", validate=None)\n",
    "    .set_index(\"Modell\")\n",
    "    .drop(\"Total\", axis=1)\n",
    ")\n",
    "\n",
    "df.head()\n"
   ]
  },
  {
   "cell_type": "code",
   "execution_count": null,
   "metadata": {},
   "outputs": [],
   "source": [
    "# Clan str signs in numerical data\n",
    "for column in df.columns:\n",
    "    if df[column].dtype == object:\n",
    "        df[column] = df[column].str.replace('K', '').astype(float)\n",
    "\n",
    "# Set models column til index for operasjon under\n",
    "df = df.reset_index()\n",
    "df.columns = df.columns.str.lower()\n",
    "\n",
    "df"
   ]
  },
  {
   "cell_type": "markdown",
   "metadata": {},
   "source": [
    " ## Lag kost / benchmark plot"
   ]
  },
  {
   "cell_type": "markdown",
   "metadata": {},
   "source": [
    "## Scenario analyse med kjøpte modeller og bruk av API-tilgang\n",
    "\n",
    "Analysen antar:\n",
    "- 800 ansatte\n",
    "- De sender mellom 50 og 350 requests per dag (inkl. automatiserte prosesser som gjør requests) til modellenes API\n",
    "- 50 ord og 350 ord per spørsmål\n",
    "- 100 til 600 ord per svar\n",
    "- 1.33 tokens per ord\n",
    "\n",
    "Spesielt requests antas å være konservativt da et automatisert program som gjør klassifisering eller datainnhenting kan medføre mange fler requests.\n",
    "Spørsmålslengden er også svært konservativ da konteksten fra selv enkle RAG modeller gjør at man potensielt får mye lengre spørsmål enn 350 ord (spesielt hvis man prøver å oppsummere dokumentasjon). Tokens per ord kan også variere med hvilken embedder-modell som brukes og hvilket språk man sender spørsmål på."
   ]
  },
  {
   "cell_type": "code",
   "execution_count": null,
   "metadata": {},
   "outputs": [],
   "source": [
    "\n",
    "# Parametre for modellen\n",
    "employees = 800\n",
    "calls = np.arange(50, 350, 50)\n",
    "avg_words_per_q = np.arange(50, 350, 50)\n",
    "avg_words_per_a = np.arange (100, 700, 100)\n",
    "tokens_per_word = 1.33\n",
    "\n",
    "# Dra ut subset columns med modellkostnader til bruk i modell\n",
    "df_llms = df[['modell', 'context window', 'input cost / 1m tokens','output cost / 1m tokens']].copy()\n",
    "df_llms.loc[:, 'context window'] = df_llms.loc[:, 'context window'] * 1000"
   ]
  },
  {
   "cell_type": "code",
   "execution_count": null,
   "metadata": {},
   "outputs": [],
   "source": [
    "# Lager en stor df med enhetskostnader knyttet til parametre i modellen\n",
    "df_cost = make_df_cost(employees, calls.tolist(), avg_words_per_q.tolist(), avg_words_per_a.tolist(), tokens_per_word)\n",
    "    "
   ]
  },
  {
   "cell_type": "code",
   "execution_count": null,
   "metadata": {},
   "outputs": [],
   "source": [
    "# Vis dataframe\n",
    "df_cost"
   ]
  },
  {
   "cell_type": "code",
   "execution_count": null,
   "metadata": {},
   "outputs": [],
   "source": [
    "cost_sent = 'input cost / 1m tokens'\n",
    "cost_rec = 'output cost / 1m tokens'\n",
    "models = ['Gemini 1.5 Pro', 'GPT-4', 'Mistral Large', 'Claude 3 Opus']\n",
    "\n",
    "# Kalkuler totale kostnader\n",
    "total_cost = calculate_total_cost(df_cost, df_llms, models, cost_sent, cost_rec)\n"
   ]
  },
  {
   "cell_type": "code",
   "execution_count": null,
   "metadata": {},
   "outputs": [],
   "source": [
    "# Make totals columns for tokens\n",
    "total_cost['m_tokens_total'] = total_cost.loc[:, 'm_tokens_sent'] + total_cost.loc[:, 'm_tokens_received']"
   ]
  },
  {
   "cell_type": "code",
   "execution_count": null,
   "metadata": {},
   "outputs": [],
   "source": [
    "# Check largest combinations\n",
    "total_cost.loc[total_cost['m_tokens_total'] >= 90]"
   ]
  },
  {
   "cell_type": "markdown",
   "metadata": {},
   "source": [
    "## Plotting av resultater"
   ]
  },
  {
   "cell_type": "code",
   "execution_count": null,
   "metadata": {},
   "outputs": [],
   "source": [
    "fig1 = plot_multiple_lines(total_cost, \n",
    "               'm_tokens_total',\n",
    "               total_cost.columns[total_cost.columns.str.contains('Total cost')],\n",
    "               title='Token amount vs expenditure',\n",
    "               xaxis_title='Million tokens (sent + received)',\n",
    "               yaxis_title='Daily expenditure (USD)')\n",
    "\n",
    "fig1.savefig('plots/tokens_vs_cost.png')\n",
    "            "
   ]
  },
  {
   "cell_type": "code",
   "execution_count": null,
   "metadata": {},
   "outputs": [],
   "source": [
    "fig2 = plot_multiple_lines(total_cost.sort_values('m_tokens_received'), \n",
    "               'm_tokens_received', \n",
    "               total_cost.columns[total_cost.columns.str.contains('Answer cost')],\n",
    "               title='Answers vs expenditure',\n",
    "               xaxis_title='Million tokens received',\n",
    "               yaxis_title='Daily expenditure (USD)')\n",
    "\n",
    "\n",
    "fig2.savefig('plots/received_tokens_vs_expenditure.png')"
   ]
  },
  {
   "cell_type": "code",
   "execution_count": null,
   "metadata": {},
   "outputs": [],
   "source": [
    "fig3 = plot_multiple_lines(total_cost.sort_values('m_tokens_sent'), \n",
    "               'm_tokens_sent', \n",
    "               total_cost.columns[total_cost.columns.str.contains('Question cost')],\n",
    "               title='Questions vs expenditure',\n",
    "               xaxis_title='Million tokens sent',\n",
    "               yaxis_title='Daily expenditure (USD)')\n",
    "\n",
    "\n",
    "fig3.savefig('plots/tokens_sent_vs_expenditure.png')"
   ]
  },
  {
   "cell_type": "markdown",
   "metadata": {},
   "source": [
    "## Ekport av relevante datasett"
   ]
  },
  {
   "cell_type": "code",
   "execution_count": null,
   "metadata": {},
   "outputs": [],
   "source": [
    "# Kolonner til eksporterte datasett\n",
    "cols_avg_word_per_a = [\n",
    "    \"avg_words_per_a\",\n",
    "    \"avg_words_per_q\",\n",
    "    \"calls\",\n",
    "    \"m_tokens_total\",\n",
    "    \"Total cost Gemini 1.5 Pro (USD)\",\n",
    "    \"Total cost GPT-4 (USD)\",\n",
    "]\n",
    "\n",
    "cols_n_calls = [\n",
    "    \"avg_words_per_a\",\n",
    "    \"avg_words_per_q\",\n",
    "    \"calls\",\n",
    "    \"m_tokens_total\",\n",
    "    \"Total cost Gemini 1.5 Pro (USD)\",\n",
    "    \"Total cost GPT-4 (USD)\",\n",
    "]\n",
    "\n",
    "# Lag filtreringsmasker\n",
    "words_per_a_mask = ((total_cost[\"avg_words_per_a\"] >= 100) | (total_cost[\"avg_words_per_a\"] <= 200))\n",
    "n_calls_mask = total_cost[\"calls\"] == 50\n",
    "\n",
    "# Sensitivitet mtp mengde requests og antall ord per svar, send til datafil for bruk i ppt\n",
    "total_cost.loc[words_per_a_mask, cols_avg_word_per_a].to_excel(\n",
    "    \"eksporterte_data/kostnad_ord_per_svar.xlsx\"\n",
    ")\n",
    "total_cost.loc[n_calls_mask, cols_n_calls].to_excel(\n",
    "    \"eksporterte_data/kostnad_calls.xlsx\"\n",
    ")\n",
    "\n",
    "# Skriv heile shiten til disk, liker ikke excel men la gå\n",
    "total_cost.to_excel(\"eksporterte_data/totale_kostnadsberegninger.xlsx\")"
   ]
  }
 ],
 "metadata": {
  "kernelspec": {
   "display_name": "general-development",
   "language": "python",
   "name": "python3"
  },
  "language_info": {
   "codemirror_mode": {
    "name": "ipython",
    "version": 3
   },
   "file_extension": ".py",
   "mimetype": "text/x-python",
   "name": "python",
   "nbconvert_exporter": "python",
   "pygments_lexer": "ipython3",
   "version": "3.11.8"
  }
 },
 "nbformat": 4,
 "nbformat_minor": 2
}
